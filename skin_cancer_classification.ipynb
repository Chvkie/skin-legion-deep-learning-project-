{
 "cells": [
  {
   "cell_type": "code",
   "execution_count": 1,
   "metadata": {},
   "outputs": [
    {
     "name": "stdout",
     "output_type": "stream",
     "text": [
      "Requirement already satisfied: kaggle in /Users/favechibueze/anaconda3/envs/sci_env/lib/python3.10/site-packages (1.5.12)\n",
      "Requirement already satisfied: tqdm in /Users/favechibueze/anaconda3/envs/sci_env/lib/python3.10/site-packages (from kaggle) (4.64.1)\n",
      "Requirement already satisfied: python-dateutil in /Users/favechibueze/anaconda3/envs/sci_env/lib/python3.10/site-packages (from kaggle) (2.8.2)\n",
      "Requirement already satisfied: certifi in /Users/favechibueze/anaconda3/envs/sci_env/lib/python3.10/site-packages (from kaggle) (2022.9.24)\n",
      "Requirement already satisfied: requests in /Users/favechibueze/anaconda3/envs/sci_env/lib/python3.10/site-packages (from kaggle) (2.28.1)\n",
      "Requirement already satisfied: six>=1.10 in /Users/favechibueze/anaconda3/envs/sci_env/lib/python3.10/site-packages (from kaggle) (1.16.0)\n",
      "Requirement already satisfied: python-slugify in /Users/favechibueze/anaconda3/envs/sci_env/lib/python3.10/site-packages (from kaggle) (6.1.2)\n",
      "Requirement already satisfied: urllib3 in /Users/favechibueze/anaconda3/envs/sci_env/lib/python3.10/site-packages (from kaggle) (1.26.12)\n",
      "Requirement already satisfied: text-unidecode>=1.3 in /Users/favechibueze/anaconda3/envs/sci_env/lib/python3.10/site-packages (from python-slugify->kaggle) (1.3)\n",
      "Requirement already satisfied: idna<4,>=2.5 in /Users/favechibueze/anaconda3/envs/sci_env/lib/python3.10/site-packages (from requests->kaggle) (3.4)\n",
      "Requirement already satisfied: charset-normalizer<3,>=2 in /Users/favechibueze/anaconda3/envs/sci_env/lib/python3.10/site-packages (from requests->kaggle) (2.1.1)\n"
     ]
    }
   ],
   "source": [
    "!pip install kaggle"
   ]
  },
  {
   "cell_type": "code",
   "execution_count": 2,
   "metadata": {},
   "outputs": [
    {
     "name": "stdout",
     "output_type": "stream",
     "text": [
      "Requirement already satisfied: kaggle in /Users/favechibueze/anaconda3/envs/sci_env/lib/python3.10/site-packages (1.5.12)\n",
      "Requirement already satisfied: six>=1.10 in /Users/favechibueze/anaconda3/envs/sci_env/lib/python3.10/site-packages (from kaggle) (1.16.0)\n",
      "Requirement already satisfied: certifi in /Users/favechibueze/anaconda3/envs/sci_env/lib/python3.10/site-packages (from kaggle) (2022.9.24)\n",
      "Requirement already satisfied: tqdm in /Users/favechibueze/anaconda3/envs/sci_env/lib/python3.10/site-packages (from kaggle) (4.64.1)\n",
      "Requirement already satisfied: python-slugify in /Users/favechibueze/anaconda3/envs/sci_env/lib/python3.10/site-packages (from kaggle) (6.1.2)\n",
      "Requirement already satisfied: requests in /Users/favechibueze/anaconda3/envs/sci_env/lib/python3.10/site-packages (from kaggle) (2.28.1)\n",
      "Requirement already satisfied: python-dateutil in /Users/favechibueze/anaconda3/envs/sci_env/lib/python3.10/site-packages (from kaggle) (2.8.2)\n",
      "Requirement already satisfied: urllib3 in /Users/favechibueze/anaconda3/envs/sci_env/lib/python3.10/site-packages (from kaggle) (1.26.12)\n",
      "Requirement already satisfied: text-unidecode>=1.3 in /Users/favechibueze/anaconda3/envs/sci_env/lib/python3.10/site-packages (from python-slugify->kaggle) (1.3)\n",
      "Requirement already satisfied: charset-normalizer<3,>=2 in /Users/favechibueze/anaconda3/envs/sci_env/lib/python3.10/site-packages (from requests->kaggle) (2.1.1)\n",
      "Requirement already satisfied: idna<4,>=2.5 in /Users/favechibueze/anaconda3/envs/sci_env/lib/python3.10/site-packages (from requests->kaggle) (3.4)\n"
     ]
    }
   ],
   "source": [
    "!pip install kaggle"
   ]
  },
  {
   "cell_type": "code",
   "execution_count": 3,
   "metadata": {},
   "outputs": [],
   "source": [
    "!cp kaggle.json ~/.kaggle/"
   ]
  },
  {
   "cell_type": "code",
   "execution_count": 4,
   "metadata": {},
   "outputs": [],
   "source": [
    "!chmod 600 ~/.kaggle/kaggle.json\n"
   ]
  },
  {
   "cell_type": "code",
   "execution_count": 5,
   "metadata": {},
   "outputs": [
    {
     "name": "stdout",
     "output_type": "stream",
     "text": [
      "Downloading skin-cancer-mnist-ham10000.zip to /Users/favechibueze/tensorflow-env/skin-legion-deep-learning-project-\n",
      "100%|█████████████████████████████████████▉| 5.20G/5.20G [03:10<00:00, 40.2MB/s]\n",
      "100%|██████████████████████████████████████| 5.20G/5.20G [03:10<00:00, 29.4MB/s]\n"
     ]
    }
   ],
   "source": [
    "! kaggle datasets download kmader/skin-cancer-mnist-ham10000"
   ]
  }
 ],
 "metadata": {
  "kernelspec": {
   "display_name": "Python 3.10.6",
   "language": "python",
   "name": "python3"
  },
  "language_info": {
   "codemirror_mode": {
    "name": "ipython",
    "version": 3
   },
   "file_extension": ".py",
   "mimetype": "text/x-python",
   "name": "python",
   "nbconvert_exporter": "python",
   "pygments_lexer": "ipython3",
   "version": "3.10.6"
  },
  "orig_nbformat": 4,
  "vscode": {
   "interpreter": {
    "hash": "084df273ba8f052530304b02b6ce6a43904f5982839f17c19a581d4a808ad67c"
   }
  }
 },
 "nbformat": 4,
 "nbformat_minor": 2
}
