{
  "cells": [
    {
      "cell_type": "markdown",
      "metadata": {
        "id": "8Ok_OCz--c4y"
      },
      "source": [
        "# Skin cancer image classification\n",
        "\n",
        "the dataset would be downloaded throught kaggle, to complete this step i had download my kaggle API and upload it to the google colab note book i am using. The next step was to create a folder named kaggle and set the security preference. after doing this step we can download the *ISIC 2018 skin legion dataset* and unzip it. the dataset contains other folders like it's metadata and is 5gb large."
      ]
    },
    {
      "cell_type": "code",
      "execution_count": 1,
      "metadata": {
        "colab": {
          "base_uri": "https://localhost:8080/"
        },
        "id": "lN-3E5-UuJkq",
        "outputId": "2615e88d-3c88-402e-eb0a-c74479b65a01"
      },
      "outputs": [
        {
          "name": "stdout",
          "output_type": "stream",
          "text": [
            "Looking in indexes: https://pypi.org/simple, https://us-python.pkg.dev/colab-wheels/public/simple/\n",
            "Requirement already satisfied: kaggle in /usr/local/lib/python3.7/dist-packages (1.5.12)\n",
            "Requirement already satisfied: python-dateutil in /usr/local/lib/python3.7/dist-packages (from kaggle) (2.8.2)\n",
            "Requirement already satisfied: requests in /usr/local/lib/python3.7/dist-packages (from kaggle) (2.23.0)\n",
            "Requirement already satisfied: tqdm in /usr/local/lib/python3.7/dist-packages (from kaggle) (4.64.1)\n",
            "Requirement already satisfied: certifi in /usr/local/lib/python3.7/dist-packages (from kaggle) (2022.9.24)\n",
            "Requirement already satisfied: six>=1.10 in /usr/local/lib/python3.7/dist-packages (from kaggle) (1.15.0)\n",
            "Requirement already satisfied: urllib3 in /usr/local/lib/python3.7/dist-packages (from kaggle) (1.24.3)\n",
            "Requirement already satisfied: python-slugify in /usr/local/lib/python3.7/dist-packages (from kaggle) (6.1.2)\n",
            "Requirement already satisfied: text-unidecode>=1.3 in /usr/local/lib/python3.7/dist-packages (from python-slugify->kaggle) (1.3)\n",
            "Requirement already satisfied: chardet<4,>=3.0.2 in /usr/local/lib/python3.7/dist-packages (from requests->kaggle) (3.0.4)\n",
            "Requirement already satisfied: idna<3,>=2.5 in /usr/local/lib/python3.7/dist-packages (from requests->kaggle) (2.10)\n"
          ]
        }
      ],
      "source": [
        "!pip install kaggle"
      ]
    },
    {
      "cell_type": "code",
      "execution_count": 1,
      "metadata": {
        "colab": {
          "base_uri": "https://localhost:8080/"
        },
        "id": "uNI3yRGzubrh",
        "outputId": "91c97a09-933a-47dc-c7e9-4b8573bfbed3"
      },
      "outputs": [
        {
          "name": "stdout",
          "output_type": "stream",
          "text": [
            "Requirement already satisfied: kaggle in /Users/favechibueze/anaconda3/envs/sci_env/lib/python3.10/site-packages (1.5.12)\n",
            "Requirement already satisfied: requests in /Users/favechibueze/anaconda3/envs/sci_env/lib/python3.10/site-packages (from kaggle) (2.28.1)\n",
            "Requirement already satisfied: urllib3 in /Users/favechibueze/anaconda3/envs/sci_env/lib/python3.10/site-packages (from kaggle) (1.26.12)\n",
            "Requirement already satisfied: tqdm in /Users/favechibueze/anaconda3/envs/sci_env/lib/python3.10/site-packages (from kaggle) (4.64.1)\n",
            "Requirement already satisfied: certifi in /Users/favechibueze/anaconda3/envs/sci_env/lib/python3.10/site-packages (from kaggle) (2022.9.24)\n",
            "Requirement already satisfied: six>=1.10 in /Users/favechibueze/anaconda3/envs/sci_env/lib/python3.10/site-packages (from kaggle) (1.16.0)\n",
            "Requirement already satisfied: python-slugify in /Users/favechibueze/anaconda3/envs/sci_env/lib/python3.10/site-packages (from kaggle) (6.1.2)\n",
            "Requirement already satisfied: python-dateutil in /Users/favechibueze/anaconda3/envs/sci_env/lib/python3.10/site-packages (from kaggle) (2.8.2)\n",
            "Requirement already satisfied: text-unidecode>=1.3 in /Users/favechibueze/anaconda3/envs/sci_env/lib/python3.10/site-packages (from python-slugify->kaggle) (1.3)\n",
            "Requirement already satisfied: idna<4,>=2.5 in /Users/favechibueze/anaconda3/envs/sci_env/lib/python3.10/site-packages (from requests->kaggle) (3.4)\n",
            "Requirement already satisfied: charset-normalizer<3,>=2 in /Users/favechibueze/anaconda3/envs/sci_env/lib/python3.10/site-packages (from requests->kaggle) (2.1.1)\n"
          ]
        }
      ],
      "source": [
        "!pip install kaggle"
      ]
    },
    {
      "cell_type": "code",
      "execution_count": 2,
      "metadata": {
        "id": "DNUNQJseujVy"
      },
      "outputs": [],
      "source": [
        "!cp kaggle.json ~/.kaggle/"
      ]
    },
    {
      "cell_type": "code",
      "execution_count": 4,
      "metadata": {
        "id": "NFaStPVTu2Nq"
      },
      "outputs": [],
      "source": [
        "!chmod 600 ~/.kaggle/kaggle.json"
      ]
    },
    {
      "cell_type": "code",
      "execution_count": 5,
      "metadata": {
        "colab": {
          "base_uri": "https://localhost:8080/"
        },
        "id": "h2NopCkfu7qZ",
        "outputId": "5a90d8b1-646e-4422-d0eb-2958ff551e19"
      },
      "outputs": [
        {
          "name": "stdout",
          "output_type": "stream",
          "text": [
            "skin-cancer-mnist-ham10000.zip: Skipping, found more recently modified local copy (use --force to force download)\n"
          ]
        }
      ],
      "source": [
        "! kaggle datasets download kmader/skin-cancer-mnist-ham10000"
      ]
    },
    {
      "cell_type": "code",
      "execution_count": 6,
      "metadata": {
        "colab": {
          "base_uri": "https://localhost:8080/"
        },
        "id": "z-tQr4G3vZS4",
        "outputId": "3605ceac-aba6-4272-c953-fe730f1fa6ff"
      },
      "outputs": [
        {
          "name": "stdout",
          "output_type": "stream",
          "text": [
            "Archive:  skin-cancer-mnist-ham10000.zip\n",
            "replace HAM10000_images_part_1/ISIC_0024306.jpg? [y]es, [n]o, [A]ll, [N]one, [r]ename: "
          ]
        }
      ],
      "source": [
        "!unzip skin-cancer-mnist-ham10000.zip"
      ]
    },
    {
      "cell_type": "markdown",
      "metadata": {
        "id": "B9ZQNklb_f61"
      },
      "source": [
        "## Loading in libraries and path"
      ]
    },
    {
      "cell_type": "code",
      "execution_count": 28,
      "metadata": {
        "id": "aRU_-yeYwcVu"
      },
      "outputs": [],
      "source": [
        "import os\n",
        "from glob import glob\n",
        "import pandas as pd\n",
        "from skimage.io import imread\n",
        "import matplotlib.pyplot  as plt\n",
        "from PIL import Image\n",
        "from pathlib import Path\n",
        "import imagesize\n",
        "import numpy as np\n",
        "\n",
        "base_dir = os.path.join('../')"
      ]
    },
    {
      "cell_type": "code",
      "execution_count": 21,
      "metadata": {
        "colab": {
          "base_uri": "https://localhost:8080/",
          "height": 133
        },
        "id": "FvMeqxEVVHap",
        "outputId": "649e2b0a-abab-4d0b-ba05-b5a03594e004"
      },
      "outputs": [
        {
          "name": "stdout",
          "output_type": "stream",
          "text": [
            "Tf-version: 2.10.0\n",
            "GPU Yes Available\n"
          ]
        },
        {
          "name": "stderr",
          "output_type": "stream",
          "text": [
            "2022-11-16 15:26:13.890544: I tensorflow/core/common_runtime/pluggable_device/pluggable_device_factory.cc:306] Could not identify NUMA node of platform GPU ID 0, defaulting to 0. Your kernel may not have been built with NUMA support.\n",
            "2022-11-16 15:26:13.890660: I tensorflow/core/common_runtime/pluggable_device/pluggable_device_factory.cc:272] Created TensorFlow device (/device:GPU:0 with 0 MB memory) -> physical PluggableDevice (device: 0, name: METAL, pci bus id: <undefined>)\n"
          ]
        }
      ],
      "source": [
        "import tensorflow as tf\n",
        "import tensorflow_hub as hub\n",
        "print('Tf-version:', tf.__version__)\n",
        "\n",
        "print(\"GPU\",\"Yes Available\" if tf.test.is_gpu_available() else \"not Available\")"
      ]
    },
    {
      "cell_type": "code",
      "execution_count": null,
      "metadata": {
        "id": "_o-cEriQVxqz"
      },
      "outputs": [],
      "source": [
        "!nvidia-smi"
      ]
    },
    {
      "cell_type": "code",
      "execution_count": 18,
      "metadata": {
        "id": "mApOTVsqx_dc"
      },
      "outputs": [],
      "source": [
        "imageid_path_dict = {os.path.splitext(os.path.basename(x))[0]: x for x in glob(os.path.join(base_dir, '*', '*.jpg'))}\n",
        "\n",
        "lesion_type_dict = {\n",
        "    'nv': 'Melanocytic nevi',\n",
        "    'mel': 'Melanoma',\n",
        "    'bkl': 'Benign keratosis-like lesions ',\n",
        "    'bcc': 'Basal cell carcinoma',\n",
        "    'akiec': 'Actinic keratoses',\n",
        "    'vasc': 'Vascular lesions',\n",
        "    'df': 'Dermatofibroma'\n",
        "}"
      ]
    },
    {
      "cell_type": "code",
      "execution_count": 19,
      "metadata": {},
      "outputs": [
        {
          "data": {
            "text/plain": [
              "''"
            ]
          },
          "execution_count": 19,
          "metadata": {},
          "output_type": "execute_result"
        }
      ],
      "source": [
        "base_dir"
      ]
    },
    {
      "cell_type": "code",
      "execution_count": 27,
      "metadata": {},
      "outputs": [
        {
          "data": {
            "text/plain": [
              "<module 'posixpath' from '/Users/favechibueze/miniforge3/envs/mike_env/lib/python3.8/posixpath.py'>"
            ]
          },
          "execution_count": 27,
          "metadata": {},
          "output_type": "execute_result"
        }
      ],
      "source": [
        "os.path\n"
      ]
    },
    {
      "cell_type": "code",
      "execution_count": 29,
      "metadata": {
        "id": "UQKyvpZ1yEUW"
      },
      "outputs": [
        {
          "ename": "FileNotFoundError",
          "evalue": "[Errno 2] No such file or directory: '../HAM10000_metadata.csv'",
          "output_type": "error",
          "traceback": [
            "\u001b[0;31m---------------------------------------------------------------------------\u001b[0m",
            "\u001b[0;31mFileNotFoundError\u001b[0m                         Traceback (most recent call last)",
            "Cell \u001b[0;32mIn [29], line 1\u001b[0m\n\u001b[0;32m----> 1\u001b[0m tile_df \u001b[39m=\u001b[39m pd\u001b[39m.\u001b[39;49mread_csv(os\u001b[39m.\u001b[39;49mpath\u001b[39m.\u001b[39;49mjoin(base_dir, \u001b[39m'\u001b[39;49m\u001b[39mHAM10000_metadata.csv\u001b[39;49m\u001b[39m'\u001b[39;49m))\n\u001b[1;32m      2\u001b[0m tile_df[\u001b[39m'\u001b[39m\u001b[39mcell_type\u001b[39m\u001b[39m'\u001b[39m] \u001b[39m=\u001b[39m tile_df[\u001b[39m'\u001b[39m\u001b[39mdx\u001b[39m\u001b[39m'\u001b[39m]\u001b[39m.\u001b[39mmap(lesion_type_dict\u001b[39m.\u001b[39mget) \n\u001b[1;32m      3\u001b[0m tile_df[\u001b[39m'\u001b[39m\u001b[39mpath\u001b[39m\u001b[39m'\u001b[39m] \u001b[39m=\u001b[39m tile_df[\u001b[39m'\u001b[39m\u001b[39mimage_id\u001b[39m\u001b[39m'\u001b[39m]\u001b[39m.\u001b[39mmap(imageid_path_dict\u001b[39m.\u001b[39mget)\n",
            "File \u001b[0;32m~/miniforge3/envs/mike_env/lib/python3.8/site-packages/pandas/util/_decorators.py:211\u001b[0m, in \u001b[0;36mdeprecate_kwarg.<locals>._deprecate_kwarg.<locals>.wrapper\u001b[0;34m(*args, **kwargs)\u001b[0m\n\u001b[1;32m    209\u001b[0m     \u001b[39melse\u001b[39;00m:\n\u001b[1;32m    210\u001b[0m         kwargs[new_arg_name] \u001b[39m=\u001b[39m new_arg_value\n\u001b[0;32m--> 211\u001b[0m \u001b[39mreturn\u001b[39;00m func(\u001b[39m*\u001b[39;49margs, \u001b[39m*\u001b[39;49m\u001b[39m*\u001b[39;49mkwargs)\n",
            "File \u001b[0;32m~/miniforge3/envs/mike_env/lib/python3.8/site-packages/pandas/util/_decorators.py:331\u001b[0m, in \u001b[0;36mdeprecate_nonkeyword_arguments.<locals>.decorate.<locals>.wrapper\u001b[0;34m(*args, **kwargs)\u001b[0m\n\u001b[1;32m    325\u001b[0m \u001b[39mif\u001b[39;00m \u001b[39mlen\u001b[39m(args) \u001b[39m>\u001b[39m num_allow_args:\n\u001b[1;32m    326\u001b[0m     warnings\u001b[39m.\u001b[39mwarn(\n\u001b[1;32m    327\u001b[0m         msg\u001b[39m.\u001b[39mformat(arguments\u001b[39m=\u001b[39m_format_argument_list(allow_args)),\n\u001b[1;32m    328\u001b[0m         \u001b[39mFutureWarning\u001b[39;00m,\n\u001b[1;32m    329\u001b[0m         stacklevel\u001b[39m=\u001b[39mfind_stack_level(),\n\u001b[1;32m    330\u001b[0m     )\n\u001b[0;32m--> 331\u001b[0m \u001b[39mreturn\u001b[39;00m func(\u001b[39m*\u001b[39;49margs, \u001b[39m*\u001b[39;49m\u001b[39m*\u001b[39;49mkwargs)\n",
            "File \u001b[0;32m~/miniforge3/envs/mike_env/lib/python3.8/site-packages/pandas/io/parsers/readers.py:950\u001b[0m, in \u001b[0;36mread_csv\u001b[0;34m(filepath_or_buffer, sep, delimiter, header, names, index_col, usecols, squeeze, prefix, mangle_dupe_cols, dtype, engine, converters, true_values, false_values, skipinitialspace, skiprows, skipfooter, nrows, na_values, keep_default_na, na_filter, verbose, skip_blank_lines, parse_dates, infer_datetime_format, keep_date_col, date_parser, dayfirst, cache_dates, iterator, chunksize, compression, thousands, decimal, lineterminator, quotechar, quoting, doublequote, escapechar, comment, encoding, encoding_errors, dialect, error_bad_lines, warn_bad_lines, on_bad_lines, delim_whitespace, low_memory, memory_map, float_precision, storage_options)\u001b[0m\n\u001b[1;32m    935\u001b[0m kwds_defaults \u001b[39m=\u001b[39m _refine_defaults_read(\n\u001b[1;32m    936\u001b[0m     dialect,\n\u001b[1;32m    937\u001b[0m     delimiter,\n\u001b[0;32m   (...)\u001b[0m\n\u001b[1;32m    946\u001b[0m     defaults\u001b[39m=\u001b[39m{\u001b[39m\"\u001b[39m\u001b[39mdelimiter\u001b[39m\u001b[39m\"\u001b[39m: \u001b[39m\"\u001b[39m\u001b[39m,\u001b[39m\u001b[39m\"\u001b[39m},\n\u001b[1;32m    947\u001b[0m )\n\u001b[1;32m    948\u001b[0m kwds\u001b[39m.\u001b[39mupdate(kwds_defaults)\n\u001b[0;32m--> 950\u001b[0m \u001b[39mreturn\u001b[39;00m _read(filepath_or_buffer, kwds)\n",
            "File \u001b[0;32m~/miniforge3/envs/mike_env/lib/python3.8/site-packages/pandas/io/parsers/readers.py:605\u001b[0m, in \u001b[0;36m_read\u001b[0;34m(filepath_or_buffer, kwds)\u001b[0m\n\u001b[1;32m    602\u001b[0m _validate_names(kwds\u001b[39m.\u001b[39mget(\u001b[39m\"\u001b[39m\u001b[39mnames\u001b[39m\u001b[39m\"\u001b[39m, \u001b[39mNone\u001b[39;00m))\n\u001b[1;32m    604\u001b[0m \u001b[39m# Create the parser.\u001b[39;00m\n\u001b[0;32m--> 605\u001b[0m parser \u001b[39m=\u001b[39m TextFileReader(filepath_or_buffer, \u001b[39m*\u001b[39;49m\u001b[39m*\u001b[39;49mkwds)\n\u001b[1;32m    607\u001b[0m \u001b[39mif\u001b[39;00m chunksize \u001b[39mor\u001b[39;00m iterator:\n\u001b[1;32m    608\u001b[0m     \u001b[39mreturn\u001b[39;00m parser\n",
            "File \u001b[0;32m~/miniforge3/envs/mike_env/lib/python3.8/site-packages/pandas/io/parsers/readers.py:1442\u001b[0m, in \u001b[0;36mTextFileReader.__init__\u001b[0;34m(self, f, engine, **kwds)\u001b[0m\n\u001b[1;32m   1439\u001b[0m     \u001b[39mself\u001b[39m\u001b[39m.\u001b[39moptions[\u001b[39m\"\u001b[39m\u001b[39mhas_index_names\u001b[39m\u001b[39m\"\u001b[39m] \u001b[39m=\u001b[39m kwds[\u001b[39m\"\u001b[39m\u001b[39mhas_index_names\u001b[39m\u001b[39m\"\u001b[39m]\n\u001b[1;32m   1441\u001b[0m \u001b[39mself\u001b[39m\u001b[39m.\u001b[39mhandles: IOHandles \u001b[39m|\u001b[39m \u001b[39mNone\u001b[39;00m \u001b[39m=\u001b[39m \u001b[39mNone\u001b[39;00m\n\u001b[0;32m-> 1442\u001b[0m \u001b[39mself\u001b[39m\u001b[39m.\u001b[39m_engine \u001b[39m=\u001b[39m \u001b[39mself\u001b[39;49m\u001b[39m.\u001b[39;49m_make_engine(f, \u001b[39mself\u001b[39;49m\u001b[39m.\u001b[39;49mengine)\n",
            "File \u001b[0;32m~/miniforge3/envs/mike_env/lib/python3.8/site-packages/pandas/io/parsers/readers.py:1735\u001b[0m, in \u001b[0;36mTextFileReader._make_engine\u001b[0;34m(self, f, engine)\u001b[0m\n\u001b[1;32m   1733\u001b[0m     \u001b[39mif\u001b[39;00m \u001b[39m\"\u001b[39m\u001b[39mb\u001b[39m\u001b[39m\"\u001b[39m \u001b[39mnot\u001b[39;00m \u001b[39min\u001b[39;00m mode:\n\u001b[1;32m   1734\u001b[0m         mode \u001b[39m+\u001b[39m\u001b[39m=\u001b[39m \u001b[39m\"\u001b[39m\u001b[39mb\u001b[39m\u001b[39m\"\u001b[39m\n\u001b[0;32m-> 1735\u001b[0m \u001b[39mself\u001b[39m\u001b[39m.\u001b[39mhandles \u001b[39m=\u001b[39m get_handle(\n\u001b[1;32m   1736\u001b[0m     f,\n\u001b[1;32m   1737\u001b[0m     mode,\n\u001b[1;32m   1738\u001b[0m     encoding\u001b[39m=\u001b[39;49m\u001b[39mself\u001b[39;49m\u001b[39m.\u001b[39;49moptions\u001b[39m.\u001b[39;49mget(\u001b[39m\"\u001b[39;49m\u001b[39mencoding\u001b[39;49m\u001b[39m\"\u001b[39;49m, \u001b[39mNone\u001b[39;49;00m),\n\u001b[1;32m   1739\u001b[0m     compression\u001b[39m=\u001b[39;49m\u001b[39mself\u001b[39;49m\u001b[39m.\u001b[39;49moptions\u001b[39m.\u001b[39;49mget(\u001b[39m\"\u001b[39;49m\u001b[39mcompression\u001b[39;49m\u001b[39m\"\u001b[39;49m, \u001b[39mNone\u001b[39;49;00m),\n\u001b[1;32m   1740\u001b[0m     memory_map\u001b[39m=\u001b[39;49m\u001b[39mself\u001b[39;49m\u001b[39m.\u001b[39;49moptions\u001b[39m.\u001b[39;49mget(\u001b[39m\"\u001b[39;49m\u001b[39mmemory_map\u001b[39;49m\u001b[39m\"\u001b[39;49m, \u001b[39mFalse\u001b[39;49;00m),\n\u001b[1;32m   1741\u001b[0m     is_text\u001b[39m=\u001b[39;49mis_text,\n\u001b[1;32m   1742\u001b[0m     errors\u001b[39m=\u001b[39;49m\u001b[39mself\u001b[39;49m\u001b[39m.\u001b[39;49moptions\u001b[39m.\u001b[39;49mget(\u001b[39m\"\u001b[39;49m\u001b[39mencoding_errors\u001b[39;49m\u001b[39m\"\u001b[39;49m, \u001b[39m\"\u001b[39;49m\u001b[39mstrict\u001b[39;49m\u001b[39m\"\u001b[39;49m),\n\u001b[1;32m   1743\u001b[0m     storage_options\u001b[39m=\u001b[39;49m\u001b[39mself\u001b[39;49m\u001b[39m.\u001b[39;49moptions\u001b[39m.\u001b[39;49mget(\u001b[39m\"\u001b[39;49m\u001b[39mstorage_options\u001b[39;49m\u001b[39m\"\u001b[39;49m, \u001b[39mNone\u001b[39;49;00m),\n\u001b[1;32m   1744\u001b[0m )\n\u001b[1;32m   1745\u001b[0m \u001b[39massert\u001b[39;00m \u001b[39mself\u001b[39m\u001b[39m.\u001b[39mhandles \u001b[39mis\u001b[39;00m \u001b[39mnot\u001b[39;00m \u001b[39mNone\u001b[39;00m\n\u001b[1;32m   1746\u001b[0m f \u001b[39m=\u001b[39m \u001b[39mself\u001b[39m\u001b[39m.\u001b[39mhandles\u001b[39m.\u001b[39mhandle\n",
            "File \u001b[0;32m~/miniforge3/envs/mike_env/lib/python3.8/site-packages/pandas/io/common.py:856\u001b[0m, in \u001b[0;36mget_handle\u001b[0;34m(path_or_buf, mode, encoding, compression, memory_map, is_text, errors, storage_options)\u001b[0m\n\u001b[1;32m    851\u001b[0m \u001b[39melif\u001b[39;00m \u001b[39misinstance\u001b[39m(handle, \u001b[39mstr\u001b[39m):\n\u001b[1;32m    852\u001b[0m     \u001b[39m# Check whether the filename is to be opened in binary mode.\u001b[39;00m\n\u001b[1;32m    853\u001b[0m     \u001b[39m# Binary mode does not support 'encoding' and 'newline'.\u001b[39;00m\n\u001b[1;32m    854\u001b[0m     \u001b[39mif\u001b[39;00m ioargs\u001b[39m.\u001b[39mencoding \u001b[39mand\u001b[39;00m \u001b[39m\"\u001b[39m\u001b[39mb\u001b[39m\u001b[39m\"\u001b[39m \u001b[39mnot\u001b[39;00m \u001b[39min\u001b[39;00m ioargs\u001b[39m.\u001b[39mmode:\n\u001b[1;32m    855\u001b[0m         \u001b[39m# Encoding\u001b[39;00m\n\u001b[0;32m--> 856\u001b[0m         handle \u001b[39m=\u001b[39m \u001b[39mopen\u001b[39;49m(\n\u001b[1;32m    857\u001b[0m             handle,\n\u001b[1;32m    858\u001b[0m             ioargs\u001b[39m.\u001b[39;49mmode,\n\u001b[1;32m    859\u001b[0m             encoding\u001b[39m=\u001b[39;49mioargs\u001b[39m.\u001b[39;49mencoding,\n\u001b[1;32m    860\u001b[0m             errors\u001b[39m=\u001b[39;49merrors,\n\u001b[1;32m    861\u001b[0m             newline\u001b[39m=\u001b[39;49m\u001b[39m\"\u001b[39;49m\u001b[39m\"\u001b[39;49m,\n\u001b[1;32m    862\u001b[0m         )\n\u001b[1;32m    863\u001b[0m     \u001b[39melse\u001b[39;00m:\n\u001b[1;32m    864\u001b[0m         \u001b[39m# Binary mode\u001b[39;00m\n\u001b[1;32m    865\u001b[0m         handle \u001b[39m=\u001b[39m \u001b[39mopen\u001b[39m(handle, ioargs\u001b[39m.\u001b[39mmode)\n",
            "\u001b[0;31mFileNotFoundError\u001b[0m: [Errno 2] No such file or directory: '../HAM10000_metadata.csv'"
          ]
        }
      ],
      "source": [
        "tile_df = pd.read_csv(os.path.join(base_dir, 'HAM10000_metadata.csv'))\n",
        "tile_df['cell_type'] = tile_df['dx'].map(lesion_type_dict.get) \n",
        "tile_df['path'] = tile_df['image_id'].map(imageid_path_dict.get)\n",
        "tile_df['cell_type_idx'] = pd.Categorical(tile_df['cell_type']).codes\n",
        "tile_df.sample(3)"
      ]
    },
    {
      "cell_type": "code",
      "execution_count": null,
      "metadata": {
        "id": "4L8PoLQBz7i5"
      },
      "outputs": [],
      "source": [
        "tile_df['cell_type'].unique()"
      ]
    },
    {
      "cell_type": "code",
      "execution_count": null,
      "metadata": {
        "id": "mKWXTyyO1t_X"
      },
      "outputs": [],
      "source": [
        "# load in all of the images\n",
        "tile_df['image'] = tile_df['path'].map(imread)"
      ]
    },
    {
      "cell_type": "code",
      "execution_count": null,
      "metadata": {
        "id": "sdLmy4gK0Tq1"
      },
      "outputs": [],
      "source": [
        "# see the image size distribution\n",
        "tile_df['image'].map(lambda x: x.shape).value_counts()"
      ]
    },
    {
      "cell_type": "code",
      "execution_count": null,
      "metadata": {
        "id": "gro-sLUn1brn"
      },
      "outputs": [],
      "source": [
        "tile_df[['cell_type_idx', 'cell_type']].sort_values('cell_type_idx').drop_duplicates()"
      ]
    },
    {
      "cell_type": "code",
      "execution_count": null,
      "metadata": {
        "id": "pui3K-K69qRd"
      },
      "outputs": [],
      "source": [
        "tile_df['image'] = tile_df['path'].map(lambda x: np.asarray(Image.open(x).resize((224,224))))"
      ]
    },
    {
      "cell_type": "markdown",
      "metadata": {
        "id": "ec_pPDFL-b6k"
      },
      "source": [
        "## converting the size of the image dataset\n",
        "\n",
        "because the dataset is 450 in height and 600 in width and in RGB format, i would like to downscale the size to help in reducing training time on the GPU"
      ]
    },
    {
      "cell_type": "code",
      "execution_count": null,
      "metadata": {
        "id": "d9faZDeR60zj"
      },
      "outputs": [],
      "source": [
        "n_samples = 3\n",
        "fig, m_axs = plt.subplots(7, n_samples, figsize = (4*n_samples, 3*7))\n",
        "for n_axs, (type_name, type_rows) in zip(m_axs, \n",
        "                                         tile_df.sort_values(['cell_type']).groupby('cell_type')):\n",
        "    n_axs[0].set_title(type_name)\n",
        "    for c_ax, (_, c_row) in zip(n_axs, type_rows.sample(n_samples, random_state=42).iterrows()):\n",
        "        c_ax.imshow(c_row['image'])\n",
        "        c_ax.axis('off')\n",
        "fig.savefig('category_samples.png', dpi=300)"
      ]
    },
    {
      "cell_type": "code",
      "execution_count": null,
      "metadata": {
        "id": "XpRhLz9077n7"
      },
      "outputs": [],
      "source": [
        "# See the image size distribution - should just return one row (all images are uniform)\n",
        "tile_df['image'].map(lambda x: x.shape).value_counts()"
      ]
    },
    {
      "cell_type": "code",
      "execution_count": null,
      "metadata": {
        "id": "liHvZce67Pgy"
      },
      "outputs": [],
      "source": [
        "tile_df.head(3)"
      ]
    },
    {
      "cell_type": "code",
      "execution_count": null,
      "metadata": {
        "id": "-_U9RyBT7rQW"
      },
      "outputs": [],
      "source": [
        "tile_df.dtypes"
      ]
    },
    {
      "cell_type": "code",
      "execution_count": null,
      "metadata": {
        "id": "9T7XPVaj_50a"
      },
      "outputs": [],
      "source": [
        "tile_df.describe()"
      ]
    },
    {
      "cell_type": "markdown",
      "metadata": {
        "id": "2cU39m2ABFGz"
      },
      "source": [
        "# DATA CLEANING"
      ]
    },
    {
      "cell_type": "code",
      "execution_count": null,
      "metadata": {
        "id": "-nXfg5n5BHwp"
      },
      "outputs": [],
      "source": [
        "tile_df.isnull().sum()"
      ]
    },
    {
      "cell_type": "code",
      "execution_count": null,
      "metadata": {
        "id": "4f8M3p3lC1ye"
      },
      "outputs": [],
      "source": [
        "import missingno as msno\n",
        "msno.matrix(tile_df)"
      ]
    },
    {
      "cell_type": "code",
      "execution_count": null,
      "metadata": {
        "id": "LWwcLOpIBTMX"
      },
      "outputs": [],
      "source": [
        "tile_df['age'].fillna(int(tile_df['age'].mean()),inplace=True)"
      ]
    },
    {
      "cell_type": "code",
      "execution_count": null,
      "metadata": {
        "id": "djgNhsnvELTc"
      },
      "outputs": [],
      "source": [
        "tile_df.isnull().sum()"
      ]
    },
    {
      "cell_type": "markdown",
      "metadata": {
        "id": "zv90qz2nFW95"
      },
      "source": [
        "# UNIVARIATE ANALYSIS"
      ]
    },
    {
      "cell_type": "code",
      "execution_count": null,
      "metadata": {
        "id": "Qb2xYq2oFVr7"
      },
      "outputs": [],
      "source": [
        "plt.figure(figsize=(20,10))\n",
        "plt.subplots_adjust(left=0.125, bottom=1, right=0.9, top=2, hspace=0.2)\n",
        "plt.subplot(2,4,1)\n",
        "plt.title(\"AGE\",fontsize=15)\n",
        "plt.ylabel(\"Count\")\n",
        "tile_df['age'].value_counts().plot.bar()\n",
        "\n",
        "plt.subplot(2,4,2)\n",
        "plt.title(\"GENDER\",fontsize=15)\n",
        "plt.ylabel(\"Count\")\n",
        "tile_df['sex'].value_counts().plot.bar()\n",
        "\n",
        "plt.subplot(2,4,3)\n",
        "plt.title(\"localization\",fontsize=15)\n",
        "plt.ylabel(\"Count\")\n",
        "plt.xticks(rotation=45)\n",
        "tile_df['localization'].value_counts().plot.bar()\n",
        "\n",
        "plt.subplot(2,4,4)\n",
        "plt.title(\"CELL TYPE\",fontsize=15)\n",
        "plt.ylabel(\"Count\")\n",
        "tile_df['cell_type'].value_counts().plot.bar()"
      ]
    },
    {
      "cell_type": "code",
      "execution_count": null,
      "metadata": {
        "id": "EXQxok-1Jmq0"
      },
      "outputs": [],
      "source": [
        "import seaborn as sns"
      ]
    },
    {
      "cell_type": "code",
      "execution_count": null,
      "metadata": {
        "id": "FwSsaI2GJmeY"
      },
      "outputs": [],
      "source": [
        "a=sns.catplot(data=tile_df, x=\"cell_type\", y=\"localization\")\n",
        "a.set_xticklabels(rotation=90)"
      ]
    },
    {
      "cell_type": "code",
      "execution_count": null,
      "metadata": {
        "id": "P5xdO-4nKvfG"
      },
      "outputs": [],
      "source": [
        "b=sns.catplot(data=tile_df, x=\"cell_type\", y=\"localization\", jitter=False)\n",
        "b.set_xticklabels(rotation=90)"
      ]
    },
    {
      "cell_type": "code",
      "execution_count": null,
      "metadata": {
        "id": "GZ85ACK4PmzL"
      },
      "outputs": [],
      "source": [
        "sns.catplot(\n",
        "    data=tile_df, x=\"cell_type\", hue=\"localization\", kind = 'count',\n",
        "    palette=\"pastel\", edgecolor=\".6\",height=5, aspect=10/5\n",
        ").set_xticklabels(rotation=90)\n"
      ]
    },
    {
      "cell_type": "code",
      "execution_count": null,
      "metadata": {
        "id": "RLJKqV5tSvfr"
      },
      "outputs": [],
      "source": [
        "sns.catplot(\n",
        "    data=tile_df, x=\"localization\", hue=\"cell_type\", kind = 'count',\n",
        "    palette=\"pastel\", edgecolor=\".6\",height=5, aspect=10/5\n",
        ").set_xticklabels(rotation=90)"
      ]
    },
    {
      "cell_type": "code",
      "execution_count": null,
      "metadata": {
        "id": "40c_0wMWQweM"
      },
      "outputs": [],
      "source": [
        "\n",
        "sns.catplot(data=tile_df, x=\"localization\", kind=\"count\", palette=\"ch:.25\", height=5, aspect=10/5).set_xticklabels(rotation=90)"
      ]
    },
    {
      "cell_type": "code",
      "execution_count": null,
      "metadata": {
        "id": "k2P0wFwFUO1e"
      },
      "outputs": [],
      "source": [
        "plt.figure(figsize=(15,10))\n",
        "plt.subplot(1,2,1)\n",
        "tile_df['dx'].value_counts().plot.pie(autopct=\"%1.1f%%\")\n",
        "plt.subplot(1,2,2)\n",
        "tile_df['dx_type'].value_counts().plot.pie(autopct=\"%1.1f%%\")\n",
        "plt.show()"
      ]
    },
    {
      "cell_type": "code",
      "execution_count": null,
      "metadata": {
        "id": "JfJG1pPRVUWe"
      },
      "outputs": [],
      "source": [
        "plt.figure(figsize=(25,10))\n",
        "plt.title('LOCALIZATION VS GENDER',fontsize = 15)\n",
        "sns.countplot(y='localization', hue='sex',data=tile_df)"
      ]
    },
    {
      "cell_type": "code",
      "execution_count": null,
      "metadata": {
        "id": "m6j-O9MDVjNU"
      },
      "outputs": [],
      "source": [
        "plt.figure(figsize=(25,10))\n",
        "plt.title('LOCALIZATION VS CELL TYPE',fontsize = 15)\n",
        "sns.countplot(x='localization', hue='cell_type',data=tile_df)"
      ]
    },
    {
      "cell_type": "code",
      "execution_count": null,
      "metadata": {
        "id": "RFY3ja-2Vwq5"
      },
      "outputs": [],
      "source": [
        "plt.figure(figsize=(25,10))\n",
        "plt.title('LOCALIZATION VS CELL TYPE',fontsize = 15)\n",
        "sns.countplot(x='cell_type', hue='localization',data=tile_df)"
      ]
    },
    {
      "cell_type": "code",
      "execution_count": null,
      "metadata": {
        "id": "MtyOsu6cWIYv"
      },
      "outputs": [],
      "source": [
        "plt.figure(figsize=(25,10))\n",
        "plt.subplot(131)\n",
        "plt.title('AGE VS CELL TYPE',fontsize = 15)\n",
        "sns.countplot(y='age', hue='cell_type',data=tile_df)\n",
        "plt.subplot(132)\n",
        "plt.title('GENDER VS CELL TYPE',fontsize = 15)\n",
        "sns.countplot(y='sex', hue='cell_type',data=tile_df)"
      ]
    },
    {
      "cell_type": "markdown",
      "metadata": {
        "id": "Ndwe1DKwWnEA"
      },
      "source": [
        "# ANN "
      ]
    },
    {
      "cell_type": "code",
      "execution_count": null,
      "metadata": {
        "id": "tq9CX4YdYYmP"
      },
      "outputs": [],
      "source": [
        "import pandas as pd\n",
        "from sklearn.datasets import load_iris"
      ]
    },
    {
      "cell_type": "code",
      "execution_count": null,
      "metadata": {
        "id": "d5zCZBTWocXb"
      },
      "outputs": [],
      "source": [
        "from sklearn.model_selection import train_test_split\n",
        "import keras\n",
        "from keras.models import Sequential\n",
        "from keras.layers import Dense, Dropout\n",
        "import tensorflow as tf\n",
        "from sklearn.preprocessing import StandardScaler"
      ]
    },
    {
      "cell_type": "code",
      "execution_count": null,
      "metadata": {
        "id": "b6jF46C8bux9"
      },
      "outputs": [],
      "source": [
        "import matplotlib.pyplot as plt\n",
        "from PIL import Image\n",
        "import seaborn as sns\n",
        "import numpy as np\n",
        "import pandas as pd\n",
        "import os\n",
        "from tensorflow.keras.utils import to_categorical\n",
        "from glob import glob"
      ]
    },
    {
      "cell_type": "code",
      "execution_count": null,
      "metadata": {
        "id": "WnMrHEL2xU1D"
      },
      "outputs": [],
      "source": [
        "trial_data = tile_df.sample(3000)"
      ]
    },
    {
      "cell_type": "code",
      "execution_count": null,
      "metadata": {
        "id": "Ne61zFWw7fHX"
      },
      "outputs": [],
      "source": [
        "features = trial_data.drop(['cell_type_idx'], axis = 1)\n",
        "label = trial_data['cell_type_idx']"
      ]
    },
    {
      "cell_type": "code",
      "execution_count": null,
      "metadata": {
        "id": "eVCNfqt5XZdu"
      },
      "outputs": [],
      "source": [
        "features.shape,label.shape"
      ]
    },
    {
      "cell_type": "code",
      "execution_count": null,
      "metadata": {
        "id": "siPWen7QYGcy"
      },
      "outputs": [],
      "source": [
        "x_train, x_test, y_train, y_test = train_test_split(features, label,\n",
        "                                                    test_size=0.2, shuffle = True, random_state = 42)\n",
        "\n"
      ]
    },
    {
      "cell_type": "code",
      "execution_count": null,
      "metadata": {
        "id": "VPBr0uUyYkV0"
      },
      "outputs": [],
      "source": [
        "print(\"X_train shape: {}\".format(x_train.shape))\n",
        "print(\"X_test shape: {}\".format(x_test.shape))\n",
        "print(\"y_train shape: {}\".format(y_train.shape))\n",
        "print(\"y_test shape: {}\".format(y_test.shape))"
      ]
    },
    {
      "cell_type": "code",
      "execution_count": null,
      "metadata": {
        "id": "9xlHsnp4YGVI"
      },
      "outputs": [],
      "source": [
        "tf.unique(x_train.cell_type.values)"
      ]
    },
    {
      "cell_type": "code",
      "execution_count": null,
      "metadata": {
        "id": "7xjeH1JIZq47"
      },
      "outputs": [],
      "source": [
        "x_train = np.asarray(x_train['image'].tolist())\n",
        "x_test = np.asarray(x_test['image'].tolist())\n",
        "\n",
        "x_train_mean = np.mean(x_train)\n",
        "x_train_std = np.std(x_train)\n",
        "\n",
        "x_test_mean = np.mean(x_test)\n",
        "x_test_std = np.std(x_test)\n",
        "\n",
        "x_train = (x_train - x_train_mean)/x_train_std\n",
        "x_test = (x_test - x_test_mean)/x_test_std"
      ]
    },
    {
      "cell_type": "code",
      "execution_count": null,
      "metadata": {
        "id": "ui15ldRJ8AJr"
      },
      "outputs": [],
      "source": [
        "x_train.shape"
      ]
    },
    {
      "cell_type": "code",
      "execution_count": null,
      "metadata": {
        "id": "B5LyWpl9Zq9T"
      },
      "outputs": [],
      "source": [
        "y_train = to_categorical(y_train, num_classes = 7)\n",
        "y_test = to_categorical(y_test, num_classes = 7)\n",
        "\n",
        "y_test.shape, y_train.shape"
      ]
    },
    {
      "cell_type": "code",
      "execution_count": null,
      "metadata": {
        "id": "K3mGudbbZrFQ"
      },
      "outputs": [],
      "source": [
        "y_test"
      ]
    },
    {
      "cell_type": "code",
      "execution_count": null,
      "metadata": {
        "id": "XJSMze7WZrMx"
      },
      "outputs": [],
      "source": [
        "x_train, x_val, y_train, y_val = train_test_split(x_train, y_train, test_size = 0.25, random_state = 42)"
      ]
    },
    {
      "cell_type": "code",
      "execution_count": null,
      "metadata": {
        "id": "-bbTaFwn51tt"
      },
      "outputs": [],
      "source": [
        "x_train = x_train.reshape(x_train.shape[0],x_train.shape[1] * x_train.shape[2] * x_train.shape[3])\n",
        "x_test = x_test.reshape(x_test.shape[0],x_test.shape[1] * x_test.shape[2] * x_test.shape[3])\n",
        "x_val = x_val.reshape(x_val.shape[0],x_val.shape[1] * x_val.shape[2] * x_val.shape[3])\n",
        "print(x_train.shape)\n",
        "print(x_test.shape)\n"
      ]
    },
    {
      "cell_type": "code",
      "execution_count": null,
      "metadata": {
        "id": "MXhXVmgR6n8w"
      },
      "outputs": [],
      "source": [
        "x_val.shape"
      ]
    },
    {
      "cell_type": "code",
      "execution_count": null,
      "metadata": {
        "id": "I-kdmw_0xilz"
      },
      "outputs": [],
      "source": [
        "print(x_train.shape)\n",
        "print(x_test.shape)\n",
        "print(x_val.shape)\n",
        "print(y_train.shape)\n",
        "print(y_test.shape)\n",
        "print(y_val.shape)"
      ]
    },
    {
      "cell_type": "markdown",
      "metadata": {
        "id": "IUix8Cu4R-zB"
      },
      "source": [
        "# MODEL 1"
      ]
    },
    {
      "cell_type": "code",
      "execution_count": null,
      "metadata": {
        "id": "8xX8fvVNhSVn"
      },
      "outputs": [],
      "source": [
        "tf.random.set_seed(28)\n",
        "\n",
        "model = tf.keras.Sequential([\n",
        "    tf.keras.layers.Dense(units= 16, kernel_initializer = 'uniform', activation = 'relu'),\n",
        "    tf.keras.layers.Dense(units= 32, kernel_initializer = 'uniform', activation = 'relu'),\n",
        "    tf.keras.layers.Dense(units= 64, kernel_initializer = 'uniform', activation = 'relu'),\n",
        "    tf.keras.layers.Dense(units= 128, kernel_initializer = 'uniform', activation = 'relu'),\n",
        "    #tf.keras.layers.Dense(units= 512, kernel_initializer = 'uniform', activation = 'relu'),\n",
        "    tf.keras.layers.Dense(units = 7, kernel_initializer = 'uniform', activation = 'softmax')])\n",
        "\n",
        "optimizer = tf.keras.optimizers.Adam(learning_rate = 0.001,\n",
        "                                    beta_1 = 0.9,\n",
        "                                    beta_2 = 0.999,\n",
        "                                    epsilon = 1e-8)\n",
        "\n",
        "# compile the keras model\n",
        "model.compile(optimizer = optimizer, \n",
        "              loss = tf.keras.losses.CategoricalCrossentropy(),\n",
        "              metrics = ['accuracy'])\n",
        "\n",
        "# fit the keras model on the dataset\n",
        "epochs = 100\n",
        "history = model.fit(x_train,\n",
        "                    y_train, \n",
        "                    batch_size = 100, \n",
        "                    epochs = epochs,\n",
        "                    validation_data = (x_val,y_val)) #, # verbose = 0)\n"
      ]
    },
    {
      "cell_type": "code",
      "execution_count": null,
      "metadata": {
        "id": "TFNNiTvq5OwB"
      },
      "outputs": [],
      "source": [
        "accuracy = model.evaluate(x_test, y_test, verbose=0)[1]\n",
        "print(\"Test: accuracy = \",accuracy*100,\"%\")"
      ]
    },
    {
      "cell_type": "code",
      "execution_count": null,
      "metadata": {
        "id": "fwbyEnDyPf49"
      },
      "outputs": [],
      "source": [
        "# Plot the learning rate versus the loss\n",
        "lrs = 1e-4 * (10 ** (np.arange(epochs)/20))\n",
        "plt.figure(figsize=(10, 7))\n",
        "plt.semilogx(lrs, history.history[\"loss\"]) # we want the x-axis (learning rate) to be log scale\n",
        "plt.xlabel(\"Learning Rate\")\n",
        "plt.ylabel(\"Loss\")\n",
        "plt.title(\"Learning rate vs. loss\");"
      ]
    },
    {
      "cell_type": "code",
      "execution_count": null,
      "metadata": {
        "id": "HcYvl6qUMtcN"
      },
      "outputs": [],
      "source": [
        "import pandas as pd\n",
        "pd.DataFrame(history.history).plot(title='Rates', figsize=(15, 7))"
      ]
    },
    {
      "cell_type": "code",
      "execution_count": null,
      "metadata": {
        "id": "Ko1zWpFeEaO8"
      },
      "outputs": [],
      "source": [
        "tf.random.set_seed(22)\n",
        "\n",
        "model = tf.keras.Sequential([\n",
        "    tf.keras.layers.Dense(units= 8, kernel_initializer = 'uniform', activation = 'relu'),\n",
        "    tf.keras.layers.Dense(units= 16, kernel_initializer = 'uniform', activation = 'relu'),\n",
        "    tf.keras.layers.Dense(units= 32, kernel_initializer = 'uniform', activation = 'relu'),\n",
        "    tf.keras.layers.Dense(units= 64, kernel_initializer = 'uniform', activation = 'relu'),\n",
        "    #tf.keras.layers.Dense(units= 512, kernel_initializer = 'uniform', activation = 'relu'),\n",
        "    tf.keras.layers.Dense(units = 7, kernel_initializer = 'uniform', activation = 'softmax')])\n",
        "\n",
        "optimizer = tf.keras.optimizers.Adam(learning_rate = 0.001,\n",
        "                                    beta_1 = 0.9,\n",
        "                                    beta_2 = 0.999,\n",
        "                                    epsilon = 1e-8)\n",
        "\n",
        "# compile the keras model\n",
        "model.compile(optimizer = optimizer, \n",
        "              loss = tf.keras.losses.CategoricalCrossentropy(),\n",
        "              metrics = ['accuracy'])\n",
        "\n",
        "# fit the keras model on the dataset\n",
        "history = model.fit(x_train,\n",
        "                    y_train, \n",
        "                    batch_size = 100, \n",
        "                    epochs = 90,\n",
        "                    validation_data = (x_val,y_val)) #, # verbose = 0)"
      ]
    },
    {
      "cell_type": "markdown",
      "metadata": {
        "id": "5Ao8qN3xEaKi"
      },
      "source": [
        "# MODEL 2"
      ]
    },
    {
      "cell_type": "code",
      "execution_count": null,
      "metadata": {
        "id": "aSQvFYH_SH29"
      },
      "outputs": [],
      "source": [
        "model1 = tf.keras.Sequential([\n",
        "    tf.keras.layers.Dense(units= 16, kernel_initializer = 'uniform', activation = 'relu'),\n",
        "    tf.keras.layers.Dense(units= 32, kernel_initializer = 'uniform', activation = 'relu'),\n",
        "    tf.keras.layers.Dense(units= 32, kernel_initializer = 'uniform', activation = 'relu'),\n",
        "    tf.keras.layers.Dense(units= 64, kernel_initializer = 'uniform', activation = 'relu'),\n",
        "    #tf.keras.layers.Dense(units= 512, kernel_initializer = 'uniform', activation = 'relu'),\n",
        "    tf.keras.layers.Dense(units = 7, kernel_initializer = 'uniform', activation = 'softmax')])\n",
        "\n",
        "optimizer = tf.keras.optimizers.Adam(learning_rate = 0.001,\n",
        "                                    beta_1 = 0.9,\n",
        "                                    beta_2 = 0.999,\n",
        "                                    epsilon = 1e-8)\n",
        "\n",
        "# compile the keras model\n",
        "model1.compile(optimizer = optimizer, \n",
        "              loss = tf.keras.losses.CategoricalCrossentropy(),\n",
        "              metrics = ['accuracy'])\n",
        "\n",
        "# fit the keras model on the dataset\n",
        "epochs = 100\n",
        "history1 = model1.fit(x_train,\n",
        "                    y_train, \n",
        "                    batch_size = 100, \n",
        "                    epochs = epochs,\n",
        "                    validation_data = (x_val,y_val)) #, # verbose = 0)"
      ]
    },
    {
      "cell_type": "code",
      "execution_count": null,
      "metadata": {
        "id": "Sdr-1pZQSHwQ"
      },
      "outputs": [],
      "source": [
        "accuracy1 = model.evaluate(x_test, y_test, verbose=0)[1]\n",
        "print(\"Test: accuracy = \",accuracy1*100,\"%\")"
      ]
    },
    {
      "cell_type": "code",
      "execution_count": null,
      "metadata": {
        "id": "-c8VD6TgSHq-"
      },
      "outputs": [],
      "source": [
        "# Plot the learning rate versus the loss\n",
        "lrs1 = 1e-4 * (10 ** (np.arange(epochs)/20))\n",
        "plt.figure(figsize=(10, 7))\n",
        "plt.semilogx(lrs1, history1.history[\"loss\"]) # we want the x-axis (learning rate) to be log scale\n",
        "plt.xlabel(\"Learning Rate\")\n",
        "plt.ylabel(\"Loss\")\n",
        "plt.title(\"Learning rate vs. loss\");"
      ]
    },
    {
      "cell_type": "code",
      "execution_count": null,
      "metadata": {
        "id": "dq8pWR3fxJ5_"
      },
      "outputs": [],
      "source": [
        "import pandas as pd\n",
        "pd.DataFrame(history1.history).plot(title='Rates', figsize=(15, 7))"
      ]
    },
    {
      "cell_type": "code",
      "execution_count": null,
      "metadata": {
        "id": "cL2X8ExLOHTC"
      },
      "outputs": [],
      "source": [
        "tf.random.set_seed(42)\n",
        "\n",
        "model1 = tf.keras.Sequential([\n",
        "    tf.keras.layers.Dense(units= 32, kernel_initializer = 'uniform', activation = 'relu'),\n",
        "    tf.keras.layers.Dense(units= 64, kernel_initializer = 'uniform', activation = 'relu'),\n",
        "    tf.keras.layers.Dense(units= 128, kernel_initializer = 'uniform', activation = 'relu'),\n",
        "    tf.keras.layers.Dense(units= 256, kernel_initializer = 'uniform', activation = 'relu'),\n",
        "    tf.keras.layers.Dense(units = 7, kernel_initializer = 'uniform', activation = 'softmax')])\n",
        "\n",
        "optimizer = tf.keras.optimizers.Adam(learning_rate = 0.00075,\n",
        "                                    beta_1 = 0.9,\n",
        "                                    beta_2 = 0.999,\n",
        "                                    epsilon = 1e-8)\n",
        "\n",
        "# compile the keras model\n",
        "model1.compile(optimizer = optimizer, \n",
        "              loss = tf.keras.losses.CategoricalCrossentropy(),\n",
        "              metrics = ['accuracy'])\n",
        "\n",
        "lr_scheduler = tf.keras.callbacks.LearningRateScheduler(lambda epoch: 1e-3 * 10 ** (epoch/20))\n",
        "\n",
        "# fit the keras model on the dataset\n",
        "history1 = model1.fit(x_train, \n",
        "                      y_train, \n",
        "                      batch_size = 10, \n",
        "                      epochs = 65, \n",
        "                      verbose = 0,\n",
        "                      callbacks = [lr_scheduler])\n",
        "\n",
        "accuracy = model1.evaluate(x_val, y_val, verbose=0)[1]\n",
        "print(\"Test: accuracy = \",accuracy*100,\"%\")\n",
        "\n"
      ]
    },
    {
      "cell_type": "code",
      "execution_count": null,
      "metadata": {
        "id": "mXGs8i_hxDOZ"
      },
      "outputs": [],
      "source": [
        "lrs = 1e-3 * (10**(tf.range(65)/20))\n",
        "plt.semilogx(lrs,history1.history['loss'])\n",
        "plt.xlabel('Learning Rate')\n",
        "plt.ylabel('Loss')\n",
        "plt.title('Finding the ideal learning rate')"
      ]
    },
    {
      "cell_type": "code",
      "execution_count": null,
      "metadata": {
        "id": "SmtGvstmkIXX"
      },
      "outputs": [],
      "source": [
        "from keras.utils.vis_utils import plot_model\n",
        "plot_model(model, to_file='model_plot.png', show_shapes=True, show_layer_names=True)"
      ]
    },
    {
      "cell_type": "code",
      "execution_count": null,
      "metadata": {
        "id": "AvIaqOyx_rxe"
      },
      "outputs": [],
      "source": [
        "import itertools\n",
        "from sklearn.metrics import confusion_matrix\n",
        "\n",
        "def make_confusion_matrix(y_true,y_pred, classes = None, figsize = (10,10), text_size=15):\n",
        "  cm = confusion_matrix(y_true,tf.round(y_pred))\n",
        "  cm_norm = cm.astype('float') / cm.sum(axis=1)[:,np.newaxis]\n",
        "  n_classes = cm.shape[0]\n",
        "\n",
        "  # Making it pretty\n",
        "  fig,ax = plt.subplots(figsize = figsize)\n",
        "  cax = ax.matshow(cm,cmap=plt.cm.Blues)\n",
        "  fig.colorbar(cax)\n",
        "\n",
        "# Set labels to classes\n",
        "  if classes:\n",
        "    labels = classes\n",
        "  else:\n",
        "    labels = np.arange(cm.shape[0])\n",
        "\n",
        "  # Label the axes\n",
        "  ax.set(title = 'Confusion Matrix',\n",
        "        xlabel = 'Predicted Label',\n",
        "        ylabel= 'True Label',\n",
        "        xticks = np.arange(n_classes),\n",
        "        yticks = np.arange(n_classes),\n",
        "        xticklabels = labels,\n",
        "        yticklabels = labels)\n",
        "\n",
        "  # Set x-axis labels to bottom\n",
        "  ax.xaxis.set_label_position('bottom')\n",
        "  ax.xaxis.tick_bottom()\n",
        "\n",
        "  # Adjust label size\n",
        "  ax.yaxis.label.set_size(text_size)\n",
        "  ax.xaxis.label.set_size(text_size)\n",
        "  ax.title.set_size(text_size)\n",
        "\n",
        "  # Set threshold for different colors\n",
        "  threshold = (cm.max() + cm.min())/2\n",
        "\n",
        "  # Plot the text on each\n",
        "  for i,j in itertools.product(range(cm.shape[0]), range(cm.shape[1])):\n",
        "    plt.text(j,i, f\"{cm[i,j]} ({cm_norm[i,j]*100:.1f}%)\",\n",
        "            horizontalalignment = 'center',\n",
        "            color = 'white' if cm[i,j] > threshold else 'black',\n",
        "            size = text_size)"
      ]
    },
    {
      "cell_type": "code",
      "execution_count": null,
      "metadata": {
        "id": "X7h_pXSfMgiM"
      },
      "outputs": [],
      "source": [
        "y_probs = model.predict(y_test) \n",
        "y_preds = y_probs .argmax(axis=1)"
      ]
    },
    {
      "cell_type": "code",
      "execution_count": null,
      "metadata": {
        "id": "a0PtbtrmMMpx"
      },
      "outputs": [],
      "source": [
        "class_names = ['Benign keratosis-like lesions ', 'Melanocytic nevi','Dermatofibroma', \n",
        "               'Melanoma', 'Vascular lesions','Basal cell carcinoma', 'Actinic keratoses']\n",
        "make_confusion_matrix(y_true=y_test, \n",
        "                      y_pred = y_preds, \n",
        "                      classes = class_names,\n",
        "                      figsize = (13,13),\n",
        "                      text_size = 10)"
      ]
    },
    {
      "cell_type": "code",
      "execution_count": null,
      "metadata": {
        "id": "0bYLGeXeMMlm"
      },
      "outputs": [],
      "source": []
    },
    {
      "cell_type": "markdown",
      "metadata": {
        "id": "oBKT4AwyMMhK"
      },
      "source": [
        "# TRANSFER LEARNING"
      ]
    },
    {
      "cell_type": "code",
      "execution_count": null,
      "metadata": {
        "id": "8nhMADH0MMZZ"
      },
      "outputs": [],
      "source": []
    },
    {
      "cell_type": "markdown",
      "metadata": {
        "id": "k6ygS1qUt1wa"
      },
      "source": [
        "#CNN"
      ]
    },
    {
      "cell_type": "code",
      "execution_count": null,
      "metadata": {
        "id": "QkUb18lSoNrs"
      },
      "outputs": [],
      "source": [
        "from tensorflow.keras.layers import Flatten,Dense,Dropout,BatchNormalization,Conv2D, MaxPool2D\n",
        "from keras.optimizers import Adam\n",
        "from keras.callbacks import ReduceLROnPlateau\n",
        "from tensorflow.keras.preprocessing.image import ImageDataGenerator"
      ]
    },
    {
      "cell_type": "code",
      "execution_count": null,
      "metadata": {
        "id": "kEdRh8hRdHJw"
      },
      "outputs": [],
      "source": [
        "input_shape = (224, 224, 3)\n",
        "num_classes = 7\n",
        "\n",
        "model = Sequential()\n",
        "model.add(Conv2D(32, kernel_size=(3, 3),activation='relu',padding = 'Same'))\n",
        "model.add(Conv2D(32,kernel_size=(3, 3), activation='relu',padding = 'Same'))\n",
        "model.add(MaxPool2D(pool_size = (2, 2)))\n",
        "model.add(Dropout(0.16))\n",
        "\n",
        "model.add(Conv2D(32, kernel_size=(3, 3),activation='relu',padding = 'Same'))\n",
        "model.add(Conv2D(32,kernel_size=(3, 3), activation='relu',padding = 'Same',))\n",
        "model.add(MaxPool2D(pool_size = (2, 2)))\n",
        "model.add(Dropout(0.20))\n",
        "\n",
        "model.add(Conv2D(64, (3, 3), activation='relu',padding = 'same'))\n",
        "model.add(Conv2D(64, (3, 3), activation='relu',padding = 'Same'))\n",
        "model.add(MaxPool2D(pool_size=(2, 2)))\n",
        "model.add(Dropout(0.25))\n",
        "\n",
        "model.add(Flatten())\n",
        "model.add(Dense(256, activation='relu'))\n",
        "model.add(Dense(128, activation='relu'))\n",
        "model.add(Dropout(0.4))\n",
        "model.add(Dense(num_classes, activation='softmax'))\n",
        "model.summary()"
      ]
    },
    {
      "cell_type": "code",
      "execution_count": null,
      "metadata": {
        "id": "hECPU41NdHN9"
      },
      "outputs": [],
      "source": [
        "# Define the optimizer\n",
        "optimizer = Adam(lr=0.0001, beta_1=0.9, beta_2=0.999, epsilon=None, decay=0.0, amsgrad=False)"
      ]
    },
    {
      "cell_type": "code",
      "execution_count": null,
      "metadata": {
        "id": "7irH377RdHTP"
      },
      "outputs": [],
      "source": [
        "model.compile(optimizer = optimizer , loss = \"categorical_crossentropy\", metrics=[\"accuracy\"])"
      ]
    },
    {
      "cell_type": "code",
      "execution_count": null,
      "metadata": {
        "id": "u1vSPXDW7v_x"
      },
      "outputs": [],
      "source": [
        "learning_rate_reduction = ReduceLROnPlateau(monitor='val_accuracy', \n",
        "                                            patience=4, \n",
        "                                            verbose=1, \n",
        "                                            factor=0.5, \n",
        "                                            min_lr=0.00001)"
      ]
    }
  ],
  "metadata": {
    "accelerator": "GPU",
    "colab": {
      "collapsed_sections": [],
      "provenance": []
    },
    "gpuClass": "standard",
    "kernelspec": {
      "display_name": "Python 3.8.15 ('mike_env')",
      "language": "python",
      "name": "python3"
    },
    "language_info": {
      "codemirror_mode": {
        "name": "ipython",
        "version": 3
      },
      "file_extension": ".py",
      "mimetype": "text/x-python",
      "name": "python",
      "nbconvert_exporter": "python",
      "pygments_lexer": "ipython3",
      "version": "3.8.15"
    },
    "vscode": {
      "interpreter": {
        "hash": "9f74dbff0a46dccf81b28136a65a962a85fe97f6251957e7bf3968427220d0da"
      }
    }
  },
  "nbformat": 4,
  "nbformat_minor": 0
}
